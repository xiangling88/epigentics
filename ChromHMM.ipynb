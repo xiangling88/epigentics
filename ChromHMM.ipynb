import pandas as pd
import os
from subprocess import call
for i in range(len(files)):
    if files[i].split('.') !='':
        marker_file='./input_csv/dynamic/one_marker/new/'+files[i]
        chromsize='/h/xiangling/TF_chipseq_pipeline/genome/hg19/hg19.chrom.sizes'
        signal_dir='./bam/'
        binary_dir='./binary_files/bam_0820/HUVEC/one_marker/'+files[i].split('.')[0]
        output_dir='./chromHMM/bam_0820/HUVEC/one_marker/'+files[i].split('.')[0]
        call(f'mkdir -p {binary_dir}',shell=True)
        call(f'mkdir -p {output_dir}',shell=True)
        call(f'java -mx1600M -jar ~/ChromHMM/ChromHMM.jar BinarizeBam \
            {chromsize} {signal_dir} {marker_file} {binary_dir}',shell=True)
        call(f'java -mx1600M -jar ~/ChromHMM/ChromHMM.jar LearnModel \
        {binary_dir} {output_dir} 5  hg19',shell=True)
import pandas as pd
import numpy as np; np.random.seed(0)
import seaborn as sns; sns.set_theme()
import numpy as np
import pandas as pd
import seaborn as sns
import matplotlib.pyplot as plt
P4_P17_P30_results=pd.read_csv("./36-states/bam_0820_P4_P17_P30/emissions_36.txt",sep="\t")
P4_P17_P30_results.columns
P4_P17_P30_results=P4_P17_P30_results[['P4-ATAC', 'P4-H3K4me1','P4-H3K27ac','P4-H3K27me3',
                   'P17-ATAC','P17-H3K4me1','P17-H3K27ac','P17-H3K27me3',
                   'P30_ATAC','P30-H3K4me1','P30-H3K27ac','P30-H3K27me3']]
huvec_P4[((huvec_P4['P4-ATAC']+huvec_P4['P4-H3K4me1']+huvec_P4[ 'P4-H3K27ac']) > (huvec_P4['P17-ATAC']+huvec_P4['P17-H3K4me1']+huvec_P4[ 'P17-H3K27ac']) ) &
        ((huvec_P4['P17-ATAC']+huvec_P4['P17-H3K4me1']+huvec_P4[ 'P17-H3K27ac']) > (huvec_P4['P30_ATAC']+huvec_P4['P30-H3K4me1']+huvec_P4[ 'P30-H3K27ac']) ) &
        ((huvec_P4['P4-H3K27me3'] > huvec_P4['P17-H3K27me3']) & (huvec_P4['P17-H3K27me3'] > huvec_P4['P30-H3K27me3']) )] 
huvec_P4[((huvec_P4['P4-ATAC']+huvec_P4['P4-H3K4me1']+huvec_P4[ 'P4-H3K27ac']) > (huvec_P4['P17-ATAC']+huvec_P4['P17-H3K4me1']+huvec_P4[ 'P17-H3K27ac']) ) &
        ((huvec_P4['P17-ATAC']+huvec_P4['P17-H3K4me1']+huvec_P4[ 'P17-H3K27ac']) > (huvec_P4['P30_ATAC']+huvec_P4['P30-H3K4me1']+huvec_P4[ 'P30-H3K27ac']) )] 

huvec_P4_T=huvec_P4.T
huvec_P4_T['times']=['P4','P4','P4','P4',
                    'P17','P17','P17','P17',
                    'P30','P30','P30','P30',]
huvec_P4_T['type']=['ATAC','H3K4me1','H3K27ac','H3K27me3',
                    'ATAC','H3K4me1','H3K27ac','H3K27me3',
                    'ATAC','H3K4me1','H3K27ac','H3K27me3',]
huvec_P4_T['marker']=huvec_P4_T.index
huvec_P4_T[0:3]
for i in list(range(1,37)):
    grid = sns.FacetGrid(huvec_P4_T, col="type",hue="type", palette="tab20c",col_wrap=4)
    # Draw a line plot to show the trajectory of each random walk
    grid.map(plt.plot, "times", i, marker="o")
